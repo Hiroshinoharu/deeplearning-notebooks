{
 "cells": [
  {
   "cell_type": "markdown",
   "id": "777d7259",
   "metadata": {},
   "source": [
    "# Cross-Entropy Cost"
   ]
  },
  {
   "cell_type": "code",
   "execution_count": 1,
   "id": "03ad4e59",
   "metadata": {},
   "outputs": [],
   "source": [
    "from numpy import log"
   ]
  },
  {
   "cell_type": "code",
   "execution_count": 2,
   "id": "613a1f61",
   "metadata": {},
   "outputs": [],
   "source": [
    "def cross_entropy(y,a):\n",
    "    return -1*(y*log(a) + (1-y)*log(1-a))"
   ]
  },
  {
   "cell_type": "code",
   "execution_count": 3,
   "id": "808a86ad",
   "metadata": {},
   "outputs": [
    {
     "data": {
      "text/plain": [
       "np.float64(0.00030004500900199243)"
      ]
     },
     "execution_count": 3,
     "metadata": {},
     "output_type": "execute_result"
    }
   ],
   "source": [
    "cross_entropy(1, 0.9997)  # Example usage"
   ]
  },
  {
   "cell_type": "code",
   "execution_count": 4,
   "id": "5b5f225e",
   "metadata": {},
   "outputs": [
    {
     "data": {
      "text/plain": [
       "np.float64(0.10536051565782628)"
      ]
     },
     "execution_count": 4,
     "metadata": {},
     "output_type": "execute_result"
    }
   ],
   "source": [
    "cross_entropy(1, 0.9)  # Example usage"
   ]
  },
  {
   "cell_type": "code",
   "execution_count": 5,
   "id": "d3e23603",
   "metadata": {},
   "outputs": [
    {
     "data": {
      "text/plain": [
       "np.float64(0.5108256237659907)"
      ]
     },
     "execution_count": 5,
     "metadata": {},
     "output_type": "execute_result"
    }
   ],
   "source": [
    "cross_entropy(1, 0.6)  # Example usage"
   ]
  },
  {
   "cell_type": "code",
   "execution_count": 6,
   "id": "dd48ffa8",
   "metadata": {},
   "outputs": [
    {
     "data": {
      "text/plain": [
       "np.float64(2.1269525243508878)"
      ]
     },
     "execution_count": 6,
     "metadata": {},
     "output_type": "execute_result"
    }
   ],
   "source": [
    "cross_entropy(1, 0.1192)"
   ]
  },
  {
   "cell_type": "code",
   "execution_count": 7,
   "id": "87a399cf",
   "metadata": {},
   "outputs": [
    {
     "data": {
      "text/plain": [
       "np.float64(0.1269246935736668)"
      ]
     },
     "execution_count": 7,
     "metadata": {},
     "output_type": "execute_result"
    }
   ],
   "source": [
    "cross_entropy(0, 0.1192)"
   ]
  },
  {
   "cell_type": "code",
   "execution_count": 8,
   "id": "90f84890",
   "metadata": {},
   "outputs": [
    {
     "data": {
      "text/plain": [
       "np.float64(0.1269246935736668)"
      ]
     },
     "execution_count": 8,
     "metadata": {},
     "output_type": "execute_result"
    }
   ],
   "source": [
    "cross_entropy(1, 1-0.1192)"
   ]
  }
 ],
 "metadata": {
  "kernelspec": {
   "display_name": ".venv",
   "language": "python",
   "name": "python3"
  },
  "language_info": {
   "codemirror_mode": {
    "name": "ipython",
    "version": 3
   },
   "file_extension": ".py",
   "mimetype": "text/x-python",
   "name": "python",
   "nbconvert_exporter": "python",
   "pygments_lexer": "ipython3",
   "version": "3.10.0"
  }
 },
 "nbformat": 4,
 "nbformat_minor": 5
}
