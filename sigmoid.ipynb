{
 "cells": [
  {
   "cell_type": "markdown",
   "id": "ffeaabce",
   "metadata": {},
   "source": [
    "# The Sigmoid Activation Function"
   ]
  },
  {
   "cell_type": "markdown",
   "id": "6955f51c",
   "metadata": {},
   "source": [
    "## For Lesson 2.1"
   ]
  },
  {
   "cell_type": "code",
   "execution_count": 2,
   "id": "6a64d208",
   "metadata": {},
   "outputs": [],
   "source": [
    "from math import e"
   ]
  },
  {
   "cell_type": "code",
   "execution_count": 3,
   "id": "6b162c6d",
   "metadata": {},
   "outputs": [],
   "source": [
    "def sigmoid(z):\n",
    "    \"\"\"\n",
    "    Compute the sigmoid function for the input z.\n",
    "\n",
    "    Args:\n",
    "        z (float): Input value for which to compute the sigmoid.\n",
    "    \"\"\"\n",
    "    return 1 / (1 + e**(-z))"
   ]
  },
  {
   "cell_type": "code",
   "execution_count": 5,
   "id": "4593c2e7",
   "metadata": {},
   "outputs": [
    {
     "name": "stdout",
     "output_type": "stream",
     "text": [
      "1.0\n"
     ]
    }
   ],
   "source": [
    "print(sigmoid(10000))  # Example usage"
   ]
  },
  {
   "cell_type": "code",
   "execution_count": 6,
   "id": "a5a19d62",
   "metadata": {},
   "outputs": [
    {
     "name": "stdout",
     "output_type": "stream",
     "text": [
      "0.5000024999999999\n"
     ]
    }
   ],
   "source": [
    "print(sigmoid(.00001))"
   ]
  },
  {
   "cell_type": "code",
   "execution_count": 7,
   "id": "45c6908e",
   "metadata": {},
   "outputs": [
    {
     "name": "stdout",
     "output_type": "stream",
     "text": [
      "0.2689414213699951\n"
     ]
    }
   ],
   "source": [
    "print(sigmoid(-1))  # Example usage"
   ]
  },
  {
   "cell_type": "code",
   "execution_count": 8,
   "id": "790de356",
   "metadata": {},
   "outputs": [
    {
     "name": "stdout",
     "output_type": "stream",
     "text": [
      "4.539786870243442e-05\n"
     ]
    }
   ],
   "source": [
    "print(sigmoid(-10))  # Example usage"
   ]
  },
  {
   "cell_type": "markdown",
   "id": "674e184b",
   "metadata": {},
   "source": [
    "# Lesson 2.2"
   ]
  },
  {
   "cell_type": "code",
   "execution_count": 9,
   "id": "f63e03d2",
   "metadata": {},
   "outputs": [
    {
     "name": "stdout",
     "output_type": "stream",
     "text": [
      "0.11920292202211757\n"
     ]
    }
   ],
   "source": [
    "print(sigmoid(-2.0))"
   ]
  }
 ],
 "metadata": {
  "kernelspec": {
   "display_name": ".venv",
   "language": "python",
   "name": "python3"
  },
  "language_info": {
   "codemirror_mode": {
    "name": "ipython",
    "version": 3
   },
   "file_extension": ".py",
   "mimetype": "text/x-python",
   "name": "python",
   "nbconvert_exporter": "python",
   "pygments_lexer": "ipython3",
   "version": "3.10.0"
  }
 },
 "nbformat": 4,
 "nbformat_minor": 5
}
