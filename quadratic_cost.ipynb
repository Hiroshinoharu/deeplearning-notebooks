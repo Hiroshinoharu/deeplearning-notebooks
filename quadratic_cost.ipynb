{
 "cells": [
  {
   "cell_type": "markdown",
   "id": "f6646bb7",
   "metadata": {},
   "source": [
    "# Quadratic Cost"
   ]
  },
  {
   "cell_type": "code",
   "execution_count": 1,
   "id": "07d7cca7",
   "metadata": {},
   "outputs": [],
   "source": [
    "def squared_error(y, yhat):\n",
    "    \"\"\"\n",
    "    Calculate the squared error between the actual and predicted values.\n",
    "    \n",
    "    Parameters:\n",
    "    y (float): Actual value.\n",
    "    yhat (float): Predicted value.\n",
    "    \n",
    "    Returns:\n",
    "    float: Squared error.\n",
    "    \"\"\"\n",
    "    return (y - yhat) ** 2"
   ]
  },
  {
   "cell_type": "code",
   "execution_count": 3,
   "id": "0845b969",
   "metadata": {},
   "outputs": [
    {
     "data": {
      "text/plain": [
       "0"
      ]
     },
     "execution_count": 3,
     "metadata": {},
     "output_type": "execute_result"
    }
   ],
   "source": [
    "squared_error(1, 1)"
   ]
  },
  {
   "cell_type": "code",
   "execution_count": 4,
   "id": "b3a1cfe0",
   "metadata": {},
   "outputs": [
    {
     "data": {
      "text/plain": [
       "8.999999999998017e-08"
      ]
     },
     "execution_count": 4,
     "metadata": {},
     "output_type": "execute_result"
    }
   ],
   "source": [
    "squared_error(1, 0.9997)"
   ]
  },
  {
   "cell_type": "code",
   "execution_count": 6,
   "id": "3232c705",
   "metadata": {},
   "outputs": [
    {
     "data": {
      "text/plain": [
       "0.16000000000000003"
      ]
     },
     "execution_count": 6,
     "metadata": {},
     "output_type": "execute_result"
    }
   ],
   "source": [
    "squared_error(1,0.6)"
   ]
  },
  {
   "cell_type": "code",
   "execution_count": 7,
   "id": "e66d060f",
   "metadata": {},
   "outputs": [
    {
     "data": {
      "text/plain": [
       "0.77580864"
      ]
     },
     "execution_count": 7,
     "metadata": {},
     "output_type": "execute_result"
    }
   ],
   "source": [
    "squared_error(1, 0.1192)"
   ]
  },
  {
   "cell_type": "code",
   "execution_count": 8,
   "id": "8ab501ba",
   "metadata": {},
   "outputs": [
    {
     "data": {
      "text/plain": [
       "0.01420864"
      ]
     },
     "execution_count": 8,
     "metadata": {},
     "output_type": "execute_result"
    }
   ],
   "source": [
    "squared_error(0, 0.1192)\n"
   ]
  },
  {
   "cell_type": "code",
   "execution_count": 10,
   "id": "5125141a",
   "metadata": {},
   "outputs": [
    {
     "data": {
      "text/plain": [
       "0.014208639999999993"
      ]
     },
     "execution_count": 10,
     "metadata": {},
     "output_type": "execute_result"
    }
   ],
   "source": [
    "squared_error(1, 1-0.1192)"
   ]
  },
  {
   "cell_type": "code",
   "execution_count": 11,
   "id": "1917c5d8",
   "metadata": {},
   "outputs": [
    {
     "data": {
      "text/plain": [
       "0.09"
      ]
     },
     "execution_count": 11,
     "metadata": {},
     "output_type": "execute_result"
    }
   ],
   "source": [
    "squared_error(0, 0.3)"
   ]
  }
 ],
 "metadata": {
  "kernelspec": {
   "display_name": ".venv",
   "language": "python",
   "name": "python3"
  },
  "language_info": {
   "codemirror_mode": {
    "name": "ipython",
    "version": 3
   },
   "file_extension": ".py",
   "mimetype": "text/x-python",
   "name": "python",
   "nbconvert_exporter": "python",
   "pygments_lexer": "ipython3",
   "version": "3.10.0"
  }
 },
 "nbformat": 4,
 "nbformat_minor": 5
}
