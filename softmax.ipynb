{
 "cells": [
  {
   "cell_type": "markdown",
   "id": "1842d933",
   "metadata": {},
   "source": [
    "# Softmax"
   ]
  },
  {
   "cell_type": "code",
   "execution_count": 11,
   "id": "7d145446",
   "metadata": {},
   "outputs": [],
   "source": [
    "from math import exp"
   ]
  },
  {
   "cell_type": "code",
   "execution_count": 12,
   "id": "fddad893",
   "metadata": {},
   "outputs": [],
   "source": [
    "z = [-1.0, 1.0, 5.0]"
   ]
  },
  {
   "cell_type": "code",
   "execution_count": 13,
   "id": "08bb8cc4",
   "metadata": {},
   "outputs": [
    {
     "data": {
      "text/plain": [
       "0.36787944117144233"
      ]
     },
     "execution_count": 13,
     "metadata": {},
     "output_type": "execute_result"
    }
   ],
   "source": [
    "exp(z[0])  # Example usage"
   ]
  },
  {
   "cell_type": "code",
   "execution_count": 14,
   "id": "f7d7e709",
   "metadata": {},
   "outputs": [
    {
     "data": {
      "text/plain": [
       "2.718281828459045"
      ]
     },
     "execution_count": 14,
     "metadata": {},
     "output_type": "execute_result"
    }
   ],
   "source": [
    "exp(z[1])"
   ]
  },
  {
   "cell_type": "code",
   "execution_count": 15,
   "id": "70d3b518",
   "metadata": {},
   "outputs": [
    {
     "data": {
      "text/plain": [
       "148.4131591025766"
      ]
     },
     "execution_count": 15,
     "metadata": {},
     "output_type": "execute_result"
    }
   ],
   "source": [
    "exp(z[2])"
   ]
  },
  {
   "cell_type": "code",
   "execution_count": 16,
   "id": "38c8a7d5",
   "metadata": {},
   "outputs": [],
   "source": [
    "total = exp(z[0]) + exp(z[1]) + exp(z[2])"
   ]
  },
  {
   "cell_type": "code",
   "execution_count": 17,
   "id": "b1d5df1b",
   "metadata": {},
   "outputs": [
    {
     "data": {
      "text/plain": [
       "151.49932037220708"
      ]
     },
     "execution_count": 17,
     "metadata": {},
     "output_type": "execute_result"
    }
   ],
   "source": [
    "total"
   ]
  },
  {
   "cell_type": "code",
   "execution_count": 18,
   "id": "bf0a09de",
   "metadata": {},
   "outputs": [
    {
     "data": {
      "text/plain": [
       "0.0024282580295913376"
      ]
     },
     "execution_count": 18,
     "metadata": {},
     "output_type": "execute_result"
    }
   ],
   "source": [
    "exp(z[0])/total"
   ]
  },
  {
   "cell_type": "code",
   "execution_count": 19,
   "id": "66c18120",
   "metadata": {},
   "outputs": [
    {
     "data": {
      "text/plain": [
       "0.017942534803329194"
      ]
     },
     "execution_count": 19,
     "metadata": {},
     "output_type": "execute_result"
    }
   ],
   "source": [
    "exp(z[1])/total"
   ]
  },
  {
   "cell_type": "code",
   "execution_count": 20,
   "id": "1b6ed3fe",
   "metadata": {},
   "outputs": [
    {
     "data": {
      "text/plain": [
       "0.9796292071670795"
      ]
     },
     "execution_count": 20,
     "metadata": {},
     "output_type": "execute_result"
    }
   ],
   "source": [
    "exp(z[2])/total"
   ]
  }
 ],
 "metadata": {
  "kernelspec": {
   "display_name": ".venv",
   "language": "python",
   "name": "python3"
  },
  "language_info": {
   "codemirror_mode": {
    "name": "ipython",
    "version": 3
   },
   "file_extension": ".py",
   "mimetype": "text/x-python",
   "name": "python",
   "nbconvert_exporter": "python",
   "pygments_lexer": "ipython3",
   "version": "3.10.0"
  }
 },
 "nbformat": 4,
 "nbformat_minor": 5
}
