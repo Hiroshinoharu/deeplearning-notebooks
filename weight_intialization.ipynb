{
 "cells": [
  {
   "cell_type": "markdown",
   "id": "34a394c7",
   "metadata": {},
   "source": [
    "# Weight Intialisation"
   ]
  },
  {
   "cell_type": "markdown",
   "id": "b1403035",
   "metadata": {},
   "source": [
    "In this notebook, we experiment with weight initialization approaches to examine their impact on layer outputs."
   ]
  },
  {
   "cell_type": "markdown",
   "id": "afdac164",
   "metadata": {},
   "source": [
    "Load Dependencies"
   ]
  },
  {
   "cell_type": "code",
   "execution_count": 1,
   "id": "61f75c14",
   "metadata": {},
   "outputs": [],
   "source": [
    "import numpy as np\n",
    "import matplotlib.pyplot as plt\n",
    "\n",
    "from tensorflow.keras.models import Sequential\n",
    "from tensorflow.keras.layers import Dense, Activation\n",
    "from tensorflow.keras.initializers import Zeros, RandomNormal, glorot_normal, glorot_uniform"
   ]
  },
  {
   "cell_type": "markdown",
   "id": "e1bb1b23",
   "metadata": {},
   "source": [
    "Set a number of neurons"
   ]
  },
  {
   "cell_type": "code",
   "execution_count": 2,
   "id": "08b88807",
   "metadata": {},
   "outputs": [],
   "source": [
    "n_input = 784\n",
    "n_dense = 256"
   ]
  },
  {
   "cell_type": "markdown",
   "id": "b4d72f9d",
   "metadata": {},
   "source": [
    "Select a bias intializer"
   ]
  },
  {
   "cell_type": "code",
   "execution_count": 3,
   "id": "2c757cff",
   "metadata": {},
   "outputs": [],
   "source": [
    "b_init = Zeros()"
   ]
  },
  {
   "cell_type": "markdown",
   "id": "a517827d",
   "metadata": {},
   "source": [
    "Select a weight intializer"
   ]
  },
  {
   "cell_type": "code",
   "execution_count": 4,
   "id": "dc1c7a3f",
   "metadata": {},
   "outputs": [],
   "source": [
    "w_init = RandomNormal(stddev=1.0)\n",
    "# w_init = glorot_normal()\n",
    "# w_init = glorot_uniform()"
   ]
  },
  {
   "cell_type": "markdown",
   "id": "a9a59330",
   "metadata": {},
   "source": [
    "Design neural network architecture"
   ]
  },
  {
   "cell_type": "code",
   "execution_count": 5,
   "id": "7c0afd54",
   "metadata": {},
   "outputs": [
    {
     "name": "stderr",
     "output_type": "stream",
     "text": [
      "c:\\Users\\51766\\DeepLearning\\.venv\\lib\\site-packages\\keras\\src\\layers\\core\\dense.py:93: UserWarning: Do not pass an `input_shape`/`input_dim` argument to a layer. When using Sequential models, prefer using an `Input(shape)` object as the first layer in the model instead.\n",
      "  super().__init__(activity_regularizer=activity_regularizer, **kwargs)\n"
     ]
    }
   ],
   "source": [
    "model = Sequential()\n",
    "model.add(Dense(n_dense,\n",
    "                input_shape = (n_input,),\n",
    "                kernel_initializer = w_init,\n",
    "                bias_initializer = b_init))\n",
    "model.add(Activation('sigmoid'))\n",
    "# model.add(Activation('softmax'))\n",
    "# model.add(Activation('relu'))"
   ]
  },
  {
   "cell_type": "markdown",
   "id": "6822ebb3",
   "metadata": {},
   "source": [
    "Generate random x values"
   ]
  },
  {
   "cell_type": "code",
   "execution_count": 6,
   "id": "a59f4b9e",
   "metadata": {},
   "outputs": [],
   "source": [
    "x = np.random.random((1,n_input))"
   ]
  },
  {
   "cell_type": "markdown",
   "id": "f43278d1",
   "metadata": {},
   "source": [
    "Forward propagate through the network"
   ]
  },
  {
   "cell_type": "code",
   "execution_count": 7,
   "id": "88ee7362",
   "metadata": {},
   "outputs": [
    {
     "name": "stdout",
     "output_type": "stream",
     "text": [
      "\u001b[1m1/1\u001b[0m \u001b[32m━━━━━━━━━━━━━━━━━━━━\u001b[0m\u001b[37m\u001b[0m \u001b[1m0s\u001b[0m 39ms/step\n"
     ]
    }
   ],
   "source": [
    "# Get the class prediction using numpy.argmax\n",
    "a = model.predict(x)"
   ]
  },
  {
   "cell_type": "code",
   "execution_count": 9,
   "id": "197f18d8",
   "metadata": {},
   "outputs": [
    {
     "data": {
      "text/plain": [
       "array([[9.98130679e-01, 9.81976628e-01, 7.99639225e-01, 2.41799690e-13,\n",
       "        9.11418140e-01, 1.95608147e-17, 9.92725074e-01, 8.43307597e-20,\n",
       "        6.53710835e-11, 9.94514942e-01, 9.47428405e-01, 1.23640391e-04,\n",
       "        1.13754730e-04, 9.07200956e-06, 3.52319404e-07, 8.47572148e-01,\n",
       "        7.08377957e-01, 9.99414086e-01, 4.81768919e-04, 9.99998748e-01,\n",
       "        1.00000000e+00, 2.32125446e-03, 6.91617699e-03, 9.99991179e-01,\n",
       "        9.99999940e-01, 9.55475569e-01, 9.99065936e-01, 3.83422503e-06,\n",
       "        1.00000000e+00, 1.41553125e-09, 2.31798545e-01, 8.63234699e-01,\n",
       "        9.99730051e-01, 8.21528196e-01, 6.27267127e-08, 1.67320331e-06,\n",
       "        9.99998510e-01, 9.67303634e-01, 7.41765741e-03, 2.11108606e-02,\n",
       "        1.07587521e-05, 9.99999821e-01, 2.19998441e-07, 9.99998927e-01,\n",
       "        1.01875958e-06, 4.12579084e-06, 2.36797575e-02, 9.99939740e-01,\n",
       "        6.45830994e-07, 8.46281826e-01, 1.05191614e-15, 9.63445101e-10,\n",
       "        4.16243047e-01, 3.52992793e-05, 1.13788943e-19, 1.00000000e+00,\n",
       "        9.99997914e-01, 9.99999940e-01, 6.29456043e-02, 1.16795673e-06,\n",
       "        2.15436252e-10, 9.87756550e-01, 1.89956964e-07, 7.11946338e-02,\n",
       "        5.63606794e-04, 9.94277894e-01, 9.99996722e-01, 1.61573893e-10,\n",
       "        9.99977946e-01, 7.31049397e-07, 3.02200931e-09, 1.00150304e-04,\n",
       "        4.94726837e-01, 8.53530705e-01, 9.92856503e-01, 9.88043547e-01,\n",
       "        9.76899803e-01, 1.72809642e-02, 9.99999583e-01, 4.16453853e-02,\n",
       "        1.00000000e+00, 1.20159075e-01, 9.75443482e-01, 1.00000000e+00,\n",
       "        1.00000000e+00, 9.91809088e-07, 9.99999642e-01, 6.17238820e-01,\n",
       "        1.00000000e+00, 2.53117527e-04, 1.27036485e-03, 4.55239594e-01,\n",
       "        9.99999940e-01, 6.97300152e-07, 9.04422581e-01, 2.13221714e-01,\n",
       "        9.30581391e-02, 1.36451960e-01, 2.49985023e-04, 3.56198400e-01,\n",
       "        2.95262516e-01, 1.89705934e-05, 1.54152466e-03, 9.99999404e-01,\n",
       "        4.78228394e-12, 1.83561859e-08, 9.98341799e-01, 7.85779548e-08,\n",
       "        9.99983668e-01, 5.46840556e-06, 9.91410434e-01, 9.99998808e-01,\n",
       "        9.99999583e-01, 8.46914430e-14, 7.85528420e-10, 9.99675214e-01,\n",
       "        1.99314243e-07, 9.99913275e-01, 1.00000000e+00, 9.88739431e-01,\n",
       "        6.78045922e-07, 9.97812331e-01, 9.99951005e-01, 9.99998689e-01,\n",
       "        9.97429013e-01, 1.00000000e+00, 1.00000000e+00, 5.45585179e-04,\n",
       "        8.89710279e-16, 9.91490543e-01, 9.98251021e-01, 3.42972428e-10,\n",
       "        9.99994636e-01, 5.59949517e-01, 9.99999940e-01, 1.01294806e-02,\n",
       "        8.32241858e-05, 9.99000549e-01, 9.99995649e-01, 1.00000000e+00,\n",
       "        1.74679421e-02, 9.99804020e-01, 9.99954522e-01, 5.25634959e-02,\n",
       "        9.99989331e-01, 1.71380229e-02, 4.64206599e-02, 9.72239257e-14,\n",
       "        1.30426176e-02, 9.91467893e-01, 9.99691546e-01, 2.12451106e-08,\n",
       "        9.99990702e-01, 8.41831206e-05, 1.47973878e-05, 2.90038740e-11,\n",
       "        9.99999404e-01, 3.45498989e-07, 9.99037683e-01, 3.92224638e-06,\n",
       "        1.00000000e+00, 5.90998097e-04, 1.22878714e-06, 1.00000000e+00,\n",
       "        3.48262961e-06, 3.12911579e-05, 1.01991589e-07, 3.47626355e-12,\n",
       "        3.83401266e-06, 5.79239486e-06, 8.49283970e-05, 1.00000000e+00,\n",
       "        1.28790219e-07, 8.57819796e-01, 1.00000000e+00, 1.62584402e-05,\n",
       "        1.50665641e-04, 1.71820531e-04, 2.62629271e-01, 9.99996603e-01,\n",
       "        8.95904395e-06, 1.24924700e-05, 1.16248522e-08, 9.94234920e-01,\n",
       "        7.45011519e-09, 9.99955177e-01, 9.99999940e-01, 1.46670768e-03,\n",
       "        4.04464622e-08, 1.00000000e+00, 2.56909192e-01, 9.99999583e-01,\n",
       "        6.48947753e-06, 9.99999523e-01, 1.02937947e-05, 4.66101944e-01,\n",
       "        9.96714234e-01, 1.00000000e+00, 5.25480174e-02, 1.00000000e+00,\n",
       "        9.85719681e-01, 9.88768637e-01, 9.95959282e-01, 5.56016663e-18,\n",
       "        1.13218604e-03, 8.52464736e-01, 1.72801403e-04, 9.99681771e-01,\n",
       "        9.99952316e-01, 1.00000000e+00, 1.91567160e-04, 7.82926987e-11,\n",
       "        9.99999821e-01, 9.97459292e-01, 9.99953568e-01, 3.46913112e-07,\n",
       "        1.19957122e-09, 3.06005677e-06, 9.99824762e-01, 9.63444233e-01,\n",
       "        8.47290516e-01, 4.57179433e-10, 9.99991655e-01, 5.78871489e-01,\n",
       "        2.19412577e-08, 4.37085355e-08, 3.76836892e-04, 9.99999642e-01,\n",
       "        9.96438026e-01, 9.51346576e-01, 8.24754164e-02, 9.99997735e-01,\n",
       "        7.31629014e-01, 4.18172358e-03, 1.87696223e-05, 9.99866486e-01,\n",
       "        9.87838984e-01, 9.93792653e-01, 1.27434546e-07, 1.26534633e-05,\n",
       "        1.00000000e+00, 8.54921023e-09, 6.42661817e-08, 4.20240031e-05,\n",
       "        9.99449670e-01, 6.40792280e-07, 3.05232214e-04, 1.00000000e+00,\n",
       "        9.99981403e-01, 2.94130412e-04, 2.77660906e-01, 1.51878610e-01,\n",
       "        2.45027841e-05, 8.93367648e-01, 6.62367404e-01, 1.79120967e-08]],\n",
       "      dtype=float32)"
      ]
     },
     "execution_count": 9,
     "metadata": {},
     "output_type": "execute_result"
    }
   ],
   "source": [
    "a"
   ]
  },
  {
   "cell_type": "code",
   "execution_count": 10,
   "id": "f39206eb",
   "metadata": {},
   "outputs": [
    {
     "data": {
      "image/png": "[encoded data removed]",
      "text/plain": [
       "<Figure size 640x480 with 1 Axes>"
      ]
     },
     "metadata": {},
     "output_type": "display_data"
    }
   ],
   "source": [
    "_ = plt.hist(np.transpose(a))"
   ]
  }
 ],
 "metadata": {
  "kernelspec": {
   "display_name": ".venv",
   "language": "python",
   "name": "python3"
  },
  "language_info": {
   "codemirror_mode": {
    "name": "ipython",
    "version": 3
   },
   "file_extension": ".py",
   "mimetype": "text/x-python",
   "name": "python",
   "nbconvert_exporter": "python",
   "pygments_lexer": "ipython3",
   "version": "3.10.0"
  }
 },
 "nbformat": 4,
 "nbformat_minor": 5
}
