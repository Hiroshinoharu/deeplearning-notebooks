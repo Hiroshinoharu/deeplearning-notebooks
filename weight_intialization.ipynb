{
 "cells": [
  {
   "cell_type": "markdown",
   "id": "34a394c7",
   "metadata": {},
   "source": [
    "# Weight Intialisation"
   ]
  },
  {
   "cell_type": "markdown",
   "id": "b1403035",
   "metadata": {},
   "source": [
    "In this notebook, we experiment with weight initialization approaches to examine their impact on layer outputs."
   ]
  },
  {
   "cell_type": "markdown",
   "id": "afdac164",
   "metadata": {},
   "source": [
    "Load Dependencies"
   ]
  },
  {
   "cell_type": "code",
   "execution_count": 1,
   "id": "61f75c14",
   "metadata": {},
   "outputs": [],
   "source": [
    "import numpy as np\n",
    "import matplotlib.pyplot as plt\n",
    "\n",
    "from tensorflow.keras.models import Sequential\n",
    "from tensorflow.keras.layers import Dense, Activation\n",
    "from tensorflow.keras.initializers import Zeros, RandomNormal, glorot_normal, glorot_uniform"
   ]
  },
  {
   "cell_type": "markdown",
   "id": "e1bb1b23",
   "metadata": {},
   "source": [
    "Set a number of neurons"
   ]
  },
  {
   "cell_type": "code",
   "execution_count": 2,
   "id": "08b88807",
   "metadata": {},
   "outputs": [],
   "source": [
    "n_input = 784\n",
    "n_dense = 256"
   ]
  },
  {
   "cell_type": "markdown",
   "id": "b4d72f9d",
   "metadata": {},
   "source": [
    "Select a bias intializer"
   ]
  },
  {
   "cell_type": "code",
   "execution_count": 3,
   "id": "2c757cff",
   "metadata": {},
   "outputs": [],
   "source": [
    "b_init = Zeros()"
   ]
  },
  {
   "cell_type": "markdown",
   "id": "a517827d",
   "metadata": {},
   "source": [
    "Select a weight intializer"
   ]
  },
  {
   "cell_type": "code",
   "execution_count": 4,
   "id": "dc1c7a3f",
   "metadata": {},
   "outputs": [],
   "source": [
    "# Sample random number from normal distribution\n",
    "#w_init = RandomNormal(stddev=1.0)\n",
    "w_init = glorot_normal()\n",
    "# w_init = glorot_uniform()"
   ]
  },
  {
   "cell_type": "markdown",
   "id": "a9a59330",
   "metadata": {},
   "source": [
    "Design neural network architecture"
   ]
  },
  {
   "cell_type": "code",
   "execution_count": 5,
   "id": "7c0afd54",
   "metadata": {},
   "outputs": [
    {
     "name": "stderr",
     "output_type": "stream",
     "text": [
      "c:\\Users\\51766\\DeepLearning\\.venv\\lib\\site-packages\\keras\\src\\layers\\core\\dense.py:93: UserWarning: Do not pass an `input_shape`/`input_dim` argument to a layer. When using Sequential models, prefer using an `Input(shape)` object as the first layer in the model instead.\n",
      "  super().__init__(activity_regularizer=activity_regularizer, **kwargs)\n"
     ]
    }
   ],
   "source": [
    "model = Sequential()\n",
    "\n",
    "# Hidden Layer Passed\n",
    "model.add(Dense(n_dense,\n",
    "                input_shape = (n_input,),\n",
    "                kernel_initializer = w_init,\n",
    "                bias_initializer = b_init))\n",
    "# model.add(Activation('sigmoid'))\n",
    "\n",
    "# model.add(Activation('softmax'))\n",
    "model.add(Activation('relu'))"
   ]
  },
  {
   "cell_type": "markdown",
   "id": "6822ebb3",
   "metadata": {},
   "source": [
    "Generate random x values"
   ]
  },
  {
   "cell_type": "code",
   "execution_count": 6,
   "id": "a59f4b9e",
   "metadata": {},
   "outputs": [],
   "source": [
    "x = np.random.random((1,n_input))"
   ]
  },
  {
   "cell_type": "markdown",
   "id": "f43278d1",
   "metadata": {},
   "source": [
    "Forward propagate through the network"
   ]
  },
  {
   "cell_type": "code",
   "execution_count": 7,
   "id": "88ee7362",
   "metadata": {},
   "outputs": [
    {
     "name": "stdout",
     "output_type": "stream",
     "text": [
      "\u001b[1m1/1\u001b[0m \u001b[32m━━━━━━━━━━━━━━━━━━━━\u001b[0m\u001b[37m\u001b[0m \u001b[1m0s\u001b[0m 42ms/step\n"
     ]
    }
   ],
   "source": [
    "# Get the class prediction using numpy.argmax\n",
    "a = model.predict(x)"
   ]
  },
  {
   "cell_type": "code",
   "execution_count": 8,
   "id": "197f18d8",
   "metadata": {},
   "outputs": [
    {
     "data": {
      "text/plain": [
       "array([[0.        , 0.04735216, 0.        , 0.        , 0.12303032,\n",
       "        0.41105968, 0.        , 0.73507994, 0.        , 0.38596758,\n",
       "        0.        , 0.        , 0.        , 0.        , 0.714532  ,\n",
       "        0.24550354, 0.        , 0.        , 0.        , 0.2598796 ,\n",
       "        0.99296916, 0.06538426, 0.7424134 , 0.7523131 , 0.        ,\n",
       "        1.4373151 , 0.95303154, 0.        , 0.        , 0.        ,\n",
       "        0.0941897 , 0.        , 0.        , 0.        , 0.50338316,\n",
       "        0.        , 0.        , 0.3495021 , 0.        , 1.4495223 ,\n",
       "        0.        , 0.        , 0.15309781, 0.48101348, 0.8903853 ,\n",
       "        0.6982358 , 0.81887364, 0.        , 0.2612405 , 0.        ,\n",
       "        0.        , 0.        , 0.        , 0.        , 0.        ,\n",
       "        0.        , 0.        , 0.24484263, 0.4703185 , 0.        ,\n",
       "        1.7352141 , 0.93111974, 0.2477751 , 0.        , 0.        ,\n",
       "        0.        , 0.7182786 , 0.04024235, 0.        , 1.0327765 ,\n",
       "        0.        , 0.        , 0.        , 0.37171552, 0.4300312 ,\n",
       "        0.70650995, 1.0685501 , 0.        , 0.44171703, 0.        ,\n",
       "        0.8008531 , 0.        , 0.        , 0.46700472, 1.3182582 ,\n",
       "        0.9284932 , 0.        , 0.28431582, 0.341104  , 0.24622905,\n",
       "        1.4503642 , 0.30484965, 1.132209  , 0.3190725 , 1.1052676 ,\n",
       "        0.        , 1.1193204 , 0.        , 0.02535119, 0.1111056 ,\n",
       "        0.        , 0.5394713 , 0.        , 0.        , 0.        ,\n",
       "        0.57772905, 0.8746652 , 0.61135906, 0.        , 0.9053809 ,\n",
       "        0.        , 0.        , 0.31937352, 0.01858488, 0.3371138 ,\n",
       "        0.        , 0.        , 0.5993964 , 0.5868628 , 0.9342284 ,\n",
       "        0.        , 0.        , 0.37093487, 0.        , 0.        ,\n",
       "        0.09663172, 0.        , 0.        , 0.37670428, 0.6250584 ,\n",
       "        0.        , 0.24970011, 0.        , 0.        , 0.3112675 ,\n",
       "        0.        , 0.        , 0.        , 0.        , 0.4833703 ,\n",
       "        0.36970568, 0.26169038, 0.59684956, 0.        , 0.        ,\n",
       "        0.45603544, 1.4327811 , 0.        , 0.41799897, 0.        ,\n",
       "        0.2702234 , 0.35027412, 0.        , 0.01909044, 0.        ,\n",
       "        0.5681844 , 0.00987107, 0.53271735, 0.12711775, 0.        ,\n",
       "        0.98054963, 0.        , 0.35338324, 1.3027833 , 0.        ,\n",
       "        0.8299964 , 1.0385292 , 0.7455579 , 0.        , 0.9987279 ,\n",
       "        0.        , 0.        , 0.3729251 , 0.18008173, 0.        ,\n",
       "        0.        , 0.        , 0.        , 0.13175218, 0.23037833,\n",
       "        1.2977731 , 0.25638032, 0.83434397, 0.        , 0.16465673,\n",
       "        0.        , 0.        , 0.        , 0.        , 0.24698873,\n",
       "        1.0732692 , 0.        , 0.        , 0.00923049, 0.11952916,\n",
       "        0.19944529, 0.        , 0.        , 0.61263293, 0.        ,\n",
       "        0.5284965 , 0.15180989, 0.        , 0.46942347, 0.        ,\n",
       "        0.        , 0.        , 1.5288789 , 0.        , 0.69949806,\n",
       "        0.        , 0.5505404 , 0.37467965, 0.        , 0.        ,\n",
       "        0.9327541 , 0.        , 0.        , 0.        , 0.        ,\n",
       "        0.        , 1.3161132 , 1.103138  , 0.        , 0.37808082,\n",
       "        0.        , 0.        , 0.07747316, 0.        , 0.3495417 ,\n",
       "        0.17179771, 0.26826048, 0.        , 0.        , 0.        ,\n",
       "        0.        , 0.1644269 , 0.        , 0.31844276, 1.5101725 ,\n",
       "        0.24645956, 0.        , 0.        , 0.        , 0.        ,\n",
       "        0.        , 0.        , 0.57611734, 0.        , 0.76088923,\n",
       "        0.51873255, 0.        , 1.3059419 , 0.5823849 , 0.2109716 ,\n",
       "        1.2631727 ]], dtype=float32)"
      ]
     },
     "execution_count": 8,
     "metadata": {},
     "output_type": "execute_result"
    }
   ],
   "source": [
    "a"
   ]
  },
  {
   "cell_type": "code",
   "execution_count": 9,
   "id": "f39206eb",
   "metadata": {},
   "outputs": [
    {
     "data": {
      "image/png": "[encoded data removed]",
      "text/plain": [
       "<Figure size 640x480 with 1 Axes>"
      ]
     },
     "metadata": {},
     "output_type": "display_data"
    }
   ],
   "source": [
    "_ = plt.hist(np.transpose(a))"
   ]
  }
 ],
 "metadata": {
  "kernelspec": {
   "display_name": ".venv",
   "language": "python",
   "name": "python3"
  },
  "language_info": {
   "codemirror_mode": {
    "name": "ipython",
    "version": 3
   },
   "file_extension": ".py",
   "mimetype": "text/x-python",
   "name": "python",
   "nbconvert_exporter": "python",
   "pygments_lexer": "ipython3",
   "version": "3.10.0"
  }
 },
 "nbformat": 4,
 "nbformat_minor": 5
}
